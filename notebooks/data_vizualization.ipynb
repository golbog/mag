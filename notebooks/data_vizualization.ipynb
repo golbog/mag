{
 "cells": [
  {
   "cell_type": "code",
   "execution_count": 5,
   "metadata": {},
   "outputs": [],
   "source": [
    "import csv\n",
    "from sklearn.decomposition import PCA\n",
    "from sklearn.manifold import TSNE, MDS\n",
    "from rdkit import Chem, DataStructs\n",
    "from rdkit.Chem import AllChem\n",
    "import numpy as np\n",
    "import matplotlib.pyplot as plt\n",
    "\n",
    "def read_data(filename, col_smiles=0, col_target=1, start_row=1, delimiter=' ', quotechar='\\''):\n",
    "    smiles = list()\n",
    "    targets = list()\n",
    "    with open(filename) as file:\n",
    "        reader = csv.reader(file, delimiter=delimiter, quotechar=quotechar)\n",
    "        for _ in range(start_row): #testiraj\n",
    "            next(reader)\n",
    "        for row in reader:\n",
    "            if len(row) > 2:\n",
    "                row = np.array(row)\n",
    "                smiles.append(row[col_smiles])\n",
    "                targets.append(row[col_target])\n",
    "    return np.array(smiles), np.array(targets)"
   ]
  },
  {
   "cell_type": "code",
   "execution_count": 7,
   "metadata": {},
   "outputs": [
    {
     "data": {
      "text/plain": [
       "('[Cl].CC(C)NCC(O)COc1cccc2ccccc12', 1.0)"
      ]
     },
     "execution_count": 7,
     "metadata": {},
     "output_type": "execute_result"
    }
   ],
   "source": [
    "# read data\n",
    "smiles,y = read_data('../data/BBBP.csv', col_smiles=3,col_target=2, delimiter=',')\n",
    "# transform SMILES data to Mol\n",
    "moles = np.array([AllChem.MolFromSmiles(x) for x in smiles])\n",
    "# remove invalid ones\n",
    "valid = [i for i,x in enumerate(moles) if x is not None]\n",
    "y = np.array(y[valid], dtype=np.float)\n",
    "moles = moles[valid]\n",
    "smiles[0], y[0]"
   ]
  },
  {
   "cell_type": "code",
   "execution_count": 8,
   "metadata": {},
   "outputs": [
    {
     "data": {
      "text/plain": [
       "<rdkit.DataStructs.cDataStructs.ExplicitBitVect at 0x1a4b005e210>"
      ]
     },
     "execution_count": 8,
     "metadata": {},
     "output_type": "execute_result"
    }
   ],
   "source": [
    "# create fingerprints\n",
    "fingerprints = [AllChem.GetMorganFingerprintAsBitVect(x, 4) for x in moles]\n",
    "fingerprints[0]"
   ]
  },
  {
   "cell_type": "code",
   "execution_count": 9,
   "metadata": {},
   "outputs": [
    {
     "data": {
      "text/plain": [
       "(2048, 57.0)"
      ]
     },
     "execution_count": 9,
     "metadata": {},
     "output_type": "execute_result"
    }
   ],
   "source": [
    "# convert fingerprint object into numpy arrays\n",
    "X = list()\n",
    "for x in fingerprints:\n",
    "    arr = np.zeros((0,))\n",
    "    DataStructs.ConvertToNumpyArray(x, arr)\n",
    "    X.append(arr)\n",
    "X = np.array(X)\n",
    "len(X[0]), sum(X[0])"
   ]
  },
  {
   "cell_type": "code",
   "execution_count": 10,
   "metadata": {},
   "outputs": [],
   "source": [
    "# PCA dim reduction\n",
    "pca = PCA(n_components=20)\n",
    "pca_res = pca.fit_transform(X)"
   ]
  },
  {
   "cell_type": "code",
   "execution_count": 31,
   "metadata": {},
   "outputs": [],
   "source": [
    "mds = MDS(n_components=2, verbose=1)\n",
    "res = mds.fit_transform(pca_res)"
   ]
  },
  {
   "cell_type": "code",
   "execution_count": 11,
   "metadata": {},
   "outputs": [
    {
     "name": "stdout",
     "output_type": "stream",
     "text": [
      "[t-SNE] Computing 91 nearest neighbors...\n",
      "[t-SNE] Indexed 2037 samples in 0.004s...\n",
      "[t-SNE] Computed neighbors for 2037 samples in 0.326s...\n",
      "[t-SNE] Computed conditional probabilities for sample 1000 / 2037\n",
      "[t-SNE] Computed conditional probabilities for sample 2000 / 2037\n",
      "[t-SNE] Computed conditional probabilities for sample 2037 / 2037\n",
      "[t-SNE] Mean sigma: 0.940453\n",
      "[t-SNE] KL divergence after 250 iterations with early exaggeration: 71.877182\n",
      "[t-SNE] KL divergence after 300 iterations: 1.205514\n"
     ]
    }
   ],
   "source": [
    "tsne = TSNE(n_components=2, verbose=1, perplexity=30, n_iter=300)\n",
    "res = tsne.fit_transform(pca_res)"
   ]
  },
  {
   "cell_type": "code",
   "execution_count": 13,
   "metadata": {},
   "outputs": [
    {
     "data": {
      "image/png": "[encoded data removed]",
      "text/plain": [
       "<Figure size 432x288 with 1 Axes>"
      ]
     },
     "metadata": {
      "needs_background": "light"
     },
     "output_type": "display_data"
    }
   ],
   "source": [
    "# crate simple matplot graph\n",
    "fig, ax = plt.subplots()\n",
    "plt.plot(np.array(res[:,0])[y==0], np.array(res[:,1])[y==0], 'bo', label='0')\n",
    "plt.plot(np.array(res[:,0])[y==1], np.array(res[:,1])[y==1], 'ro', label='1')\n",
    "plt.legend()\n",
    "plt.show()"
   ]
  },
  {
   "cell_type": "code",
   "execution_count": null,
   "metadata": {},
   "outputs": [],
   "source": [
    "# show it with plotly if possible\n",
    "try:\n",
    "    from plotly.offline import init_notebook_mode, iplot\n",
    "    import plotly.tools as tls\n",
    "    init_notebook_mode(connected=True)\n",
    "    plotly_fig = tls.mpl_to_plotly(plt.gcf())\n",
    "    plotly_fig['layout']['showlegend'] = True\n",
    "    iplot(plotly_fig)\n",
    "except ImportError:\n",
    "    pass"
   ]
  },
  {
   "cell_type": "code",
   "execution_count": null,
   "metadata": {},
   "outputs": [],
   "source": []
  }
 ],
 "metadata": {
  "kernelspec": {
   "display_name": "Python 3",
   "language": "python",
   "name": "python3"
  },
  "language_info": {
   "codemirror_mode": {
    "name": "ipython",
    "version": 3
   },
   "file_extension": ".py",
   "mimetype": "text/x-python",
   "name": "python",
   "nbconvert_exporter": "python",
   "pygments_lexer": "ipython3",
   "version": "3.6.6"
  }
 },
 "nbformat": 4,
 "nbformat_minor": 1
}
