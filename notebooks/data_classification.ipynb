{
 "cells": [
  {
   "cell_type": "code",
   "execution_count": 10,
   "metadata": {
    "collapsed": true
   },
   "outputs": [],
   "source": [
    "import csv\n",
    "from sklearn.ensemble import RandomForestClassifier\n",
    "from sklearn.model_selection import train_test_split\n",
    "from sklearn.metrics import roc_auc_score\n",
    "from rdkit import Chem, DataStructs\n",
    "from rdkit.Chem import AllChem\n",
    "import numpy as np\n",
    "import matplotlib.pyplot as plt\n",
    "\n",
    "def read_data(filename, col_smiles=0, col_target=1, start_row=1, delimiter=' ', quotechar='\\''):\n",
    "    smiles = list()\n",
    "    targets = list()\n",
    "    with open(filename) as file:\n",
    "        reader = csv.reader(file, delimiter=delimiter, quotechar=quotechar)\n",
    "        for _ in range(start_row): #testiraj\n",
    "            next(reader)\n",
    "        for row in reader:\n",
    "            if len(row) > 2:\n",
    "                row = np.array(row)\n",
    "                smiles.append(row[col_smiles])\n",
    "                targets.append(row[col_target])\n",
    "    return np.array(smiles), np.array(targets)"
   ]
  },
  {
   "cell_type": "code",
   "execution_count": 19,
   "metadata": {},
   "outputs": [],
   "source": [
    "# read data\n",
    "smiles,y = read_data('data/BBBP.csv', col_smiles=3,col_target=2, delimiter=',')\n",
    "# transform SMILES data to Mol\n",
    "moles = np.array([AllChem.MolFromSmiles(x) for x in smiles])\n",
    "# remove invalid ones\n",
    "valid = [i for i,x in enumerate(moles) if x is not None]\n",
    "y = np.array(y[valid], dtype=np.float)\n",
    "moles = moles[valid]\n",
    "\n",
    "fingerprints = [AllChem.GetMorganFingerprintAsBitVect(x, 4) for x in moles]\n",
    "\n",
    "X = list()\n",
    "for x in fingerprints:\n",
    "    arr = np.zeros((0,))\n",
    "    DataStructs.ConvertToNumpyArray(x, arr)\n",
    "    X.append(arr)\n",
    "X = np.array(X)"
   ]
  },
  {
   "cell_type": "code",
   "execution_count": 20,
   "metadata": {},
   "outputs": [
    {
     "data": {
      "text/plain": [
       "0.779031370390754"
      ]
     },
     "execution_count": 20,
     "metadata": {},
     "output_type": "execute_result"
    }
   ],
   "source": [
    "clf = RandomForestClassifier(n_estimators=500, random_state=0)\n",
    "X_train, X_test, y_train, y_test = train_test_split(X, y, test_size=0.1, random_state=0)\n",
    "\n",
    "#X_train, X_val, y_train, y_val = train_test_split(X_train, y_train, test_size=0.1, random_state=1)\n",
    "\n",
    "clf.fit(X_train, y_train)\n",
    "y_pred = clf.predict(X_test)\n",
    "roc_auc_score(y_test, y_pred)"
   ]
  }
 ],
 "metadata": {
  "kernelspec": {
   "display_name": "Python 2",
   "language": "python",
   "name": "python2"
  },
  "language_info": {
   "codemirror_mode": {
    "name": "ipython",
    "version": 2
   },
   "file_extension": ".py",
   "mimetype": "text/x-python",
   "name": "python",
   "nbconvert_exporter": "python",
   "pygments_lexer": "ipython2",
   "version": "2.7.6"
  }
 },
 "nbformat": 4,
 "nbformat_minor": 0
}
