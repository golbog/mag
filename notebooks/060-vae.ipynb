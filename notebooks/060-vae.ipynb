{
 "cells": [
  {
   "cell_type": "code",
   "execution_count": 1,
   "metadata": {},
   "outputs": [
    {
     "name": "stderr",
     "output_type": "stream",
     "text": [
      "Using TensorFlow backend.\n"
     ]
    }
   ],
   "source": [
    "import numpy as np\n",
    "import sys\n",
    "import itertools\n",
    "from sklearn.model_selection import train_test_split\n",
    "import matplotlib.pyplot as plt\n",
    "sys.path.insert(0, '../code')\n",
    "import cheauder_utils\n",
    "from vae_smiles import CustomVariationalLayer\n",
    "\n",
    "encoder196 = cheauder_utils.load_coder_json(\n",
    "    \"../code/model/encoder.json\",\n",
    "    \"../code/weights/encoder_weights.h5\",\n",
    "    custom_objects={'CustomVariationalLayer': CustomVariationalLayer,\n",
    "    'latent_dim': 196}\n",
    ")\n",
    "\n",
    "decoder196 = cheauder_utils.load_coder_json(\n",
    "    \"../code/model/decoder.json\",\n",
    "    \"../code/weights/decoder_weights.h5\",\n",
    "    custom_objects={'CustomVariationalLayer': CustomVariationalLayer,\n",
    "    'latent_dim': 196}\n",
    ")\n",
    "\n",
    "encoder2 = cheauder_utils.load_coder_json(\n",
    "    \"../code/model/encoder_2.json\",\n",
    "    \"../code/weights/encoder_2_weights.h5\",\n",
    "    custom_objects={'CustomVariationalLayer': CustomVariationalLayer,\n",
    "    'latent_dim': 2}\n",
    ")\n",
    "\n",
    "decoder2 = cheauder_utils.load_coder_json(\n",
    "    \"../code/model/decoder_2.json\",\n",
    "    \"../code/weights/decoder_2_weights.h5\",\n",
    "    custom_objects={'CustomVariationalLayer': CustomVariationalLayer,\n",
    "    'latent_dim': 2}\n",
    ")\n",
    "\n",
    "X, y, charset, chars = cheauder_utils.load_data_vae('../data/250k_rndm_zinc_drugs_clean_3.csv', charset_filename='../code/model/charset_ZINC.json',col_smiles=0, col_target=1, delimiter=',', max_len=120)\n",
    "_, x_test, _, y_test = train_test_split(X, y, test_size=0.3, random_state=42)"
   ]
  },
  {
   "cell_type": "markdown",
   "metadata": {},
   "source": [
    "## Kodiranje/Dekodiranje pri variacijskem avtokodirniku\n",
    "\n",
    "Probali bomo naš naučen variacijski avtokodirnik na molekuli vzeti iz validacijske množice."
   ]
  },
  {
   "cell_type": "code",
   "execution_count": 2,
   "metadata": {},
   "outputs": [
    {
     "data": {
      "image/png": "[encoded data removed]",
      "text/plain": [
       "<PIL.Image.Image image mode=RGBA size=400x300 at 0x22007B44438>"
      ]
     },
     "execution_count": 2,
     "metadata": {},
     "output_type": "execute_result"
    }
   ],
   "source": [
    "from rdkit import DataStructs, Chem\n",
    "from rdkit.Chem import AllChem, Draw\n",
    "smile = cheauder_utils.devectorize_smile(x_test[0], chars)\n",
    "mol = Chem.MolFromSmiles(smile)\n",
    "AllChem.Compute2DCoords(mol)\n",
    "Draw.MolsToGridImage([mol], 1,(400,300) , legends=[smile])"
   ]
  },
  {
   "cell_type": "markdown",
   "metadata": {},
   "source": [
    "Potek kodiranja in dekodiranja je naslednji. Zapis SMILES molekule najprej zakodiramo one-hot, dobimo seznam velikosti (120,36). Ta seznam spustimo skozi kodirnik in dobimo vektorsko vložitev te molekule v latentnem prostoru našega variacijskega avtokodirnika dimenzije 196. To vložitev spustimo čez dekodirnik. Dobimo seznam enake dimenzije kot je vhod v kodirnik. Vendar vrednosti niso samo 0 ali 1, vendar dobimo verjetnosti. Torej vzamemo vsak znak pri katerem je verjetnost največja in nastavimo vrednost na 1, ostale pa na 0. Tak seznam lahko pretvorimo nazaj v zapis SMILES."
   ]
  },
  {
   "cell_type": "code",
   "execution_count": 49,
   "metadata": {},
   "outputs": [
    {
     "name": "stdout",
     "output_type": "stream",
     "text": [
      "Vhod          : C[NH+]1CCC(NC(=O)[C@H]2CCN(c3ccc(Cl)c(Cl)c3)C2=O)CC1\n",
      "Rekonstrukcija: C[NH+]1CCC(NC(=O)[C@H]2CCN(c3ccc(Cl)c(Cl)c3)C2=O)CC\n"
     ]
    }
   ],
   "source": [
    "vec = cheauder_utils.vectorize_smile(smile, charset)\n",
    "z,_,_ = encoder196.predict(np.array([vec]))\n",
    "pred = decoder196.predict(z)[0]\n",
    "pred = np.array((pred.argmax(axis=1)[:, None] == np.arange(pred.shape[1])).astype(int))\n",
    "pred = cheauder_utils.devectorize_smile(pred, chars)\n",
    "print('Vhod          : {}'.format(smile))\n",
    "print('Rekonstrukcija: {}'.format(pred))"
   ]
  },
  {
   "cell_type": "markdown",
   "metadata": {},
   "source": [
    "Vidimo, da se zapisa razlikujeta le v eni črki. Čeprav sta zapisa zelo podobna pa vendar naša rekonstrukcija ni ustrezen zapis SMILES."
   ]
  },
  {
   "cell_type": "code",
   "execution_count": 50,
   "metadata": {},
   "outputs": [
    {
     "data": {
      "text/plain": [
       "False"
      ]
     },
     "execution_count": 50,
     "metadata": {},
     "output_type": "execute_result"
    }
   ],
   "source": [
    "cheauder_utils.is_valid_smiles(pred)"
   ]
  },
  {
   "cell_type": "markdown",
   "metadata": {},
   "source": [
    "Vendar so variacijski avtokodirniki probabilistični. Zato naši vektorski vložitvi dodamo šum. V sorodnih člankih uporabljajo število poskusov med 500 in 1000."
   ]
  },
  {
   "cell_type": "code",
   "execution_count": 56,
   "metadata": {},
   "outputs": [
    {
     "name": "stdout",
     "output_type": "stream",
     "text": [
      "Poskus št. 51 : C[NH+]1CCC(NC(=O)[C@H]2CCN(c3ccc(Cl)c(Cl)c3)C2=O)CC1\n"
     ]
    }
   ],
   "source": [
    "n = 500\n",
    "noise_norm = 5\n",
    "for i in range(n):\n",
    "    pred = decoder196.predict(np.array(cheauder_utils.perturb_z(z, noise_norm=False if i == 0 else noise_norm)))[0]\n",
    "    pred = np.array((pred.argmax(axis=1)[:, None] == np.arange(pred.shape[1])).astype(int))\n",
    "    pred = cheauder_utils.devectorize_smile(pred, chars)\n",
    "    if np.array_equal(smile, pred):\n",
    "        print('Poskus št. {} : {}'.format(str(i), pred))\n",
    "        break"
   ]
  },
  {
   "cell_type": "markdown",
   "metadata": {},
   "source": [
    "Tako nam je uspelo dobiti rekonstrukcijo enako vhodu."
   ]
  },
  {
   "cell_type": "code",
   "execution_count": 3,
   "metadata": {},
   "outputs": [
    {
     "name": "stdout",
     "output_type": "stream",
     "text": [
      "Percentage correctly predicted: 53.00\n"
     ]
    }
   ],
   "source": [
    "zs,_,_ = encoder196.predict(x_test[:100])\n",
    "cheauder_utils.correctly_decoded_with_tries(zs, x_test[:100], decoder196, chars, 5, 500)"
   ]
  },
  {
   "cell_type": "code",
   "execution_count": null,
   "metadata": {},
   "outputs": [],
   "source": []
  }
 ],
 "metadata": {
  "kernelspec": {
   "display_name": "Python 3",
   "language": "python",
   "name": "python3"
  },
  "language_info": {
   "codemirror_mode": {
    "name": "ipython",
    "version": 3
   },
   "file_extension": ".py",
   "mimetype": "text/x-python",
   "name": "python",
   "nbconvert_exporter": "python",
   "pygments_lexer": "ipython3",
   "version": "3.6.6"
  }
 },
 "nbformat": 4,
 "nbformat_minor": 2
}
