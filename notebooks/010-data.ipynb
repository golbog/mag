{
 "cells": [
  {
   "cell_type": "markdown",
   "metadata": {},
   "source": [
    "# Podatki\n",
    "Zbrani so bili naslednji podatki:\n",
    "1. 250k_rndm_zinc_drugs_clean_3.csv ([chemical_vae](https://github.com/aspuru-guzik-group/chemical_vae/blob/master/models/zinc/250k_rndm_zinc_drugs_clean_3.csv), podatki so vzeti iz članka Gómez-Bombarelli in sod.) - 250k zapisov v zapisu SMILES, 3 regresijski atributi (logP - srednja vrednost: 2.46, standardni odklon: 1.43, qed - srednja vrednost: 0.73, standardni odklon: 0.14, SAS: srednja vrednost: 3.05, standardni odklon: 0.83)\n",
    "2. BBBP.csv ([moleculenet.ai](http://moleculenet.ai/datasets-1)) - 2039 zapisov, 1 binarni klasifikacijski atribut:  ali molekula prehaja med krvno-možgansko pregrado.\n",
    "3. clintox.csv ([moleculenet.ai](http://moleculenet.ai/datasets-1)) - 1478 zapisov, 2 binarna klasifikacijska atributa: ali je molekula odobrena iz strani FDA in ali je molekula toksična\n",
    "4. HIV.csv  ([moleculenet.ai](http://moleculenet.ai/datasets-1)) - 41127 zapisov, 1 binarni klasifikacijski atribut: ali molekula inhibira virus HIV\n",
    "5. sider.csv ([moleculenet.ai](http://moleculenet.ai/datasets-1)) - 1427 zapisov, 27 binarnih klasifikacijskih atributov: ali molekula povzroča stranske učinke rezličnim telesnim organom (npr. oči, prebava, sluh,...)\n",
    "6. BACE.csv ([moleculenet.ai](http://moleculenet.ai/datasets-1)) - 1513 zapisov, 1 binarni klasifikacijski atribut: vezanje na človekov inhibitor BACE-1 \n",
    "7. Lipophilicity.csv ([moleculenet.ai](http://moleculenet.ai/datasets-1)) - 4200 zapisov, 1 regresijski atribut (lastnost molekule koliko prehaja med membranami: srednja vrednost: 2.19, standardni odklon: 1.2)\n",
    "8. SAMPL.csv ([moleculenet.ai](http://moleculenet.ai/datasets-1)) - 642 zapisov, 1 regresijski atribut (hidracijska energija molekule v vodi: srednja vrednost: -3.8, standardni odklon: 3.84)\n",
    "9. ESOL.csv ([moleculenet.ai](http://moleculenet.ai/datasets-1)) - 1128 zapisov, 1 regresijski atribut (topnost v vodi: srednja vrednost: -2.99, standardni odklon: 1.63)"
   ]
  },
  {
   "cell_type": "code",
   "execution_count": 1,
   "metadata": {},
   "outputs": [],
   "source": [
    "base = '../data/'\n",
    "files = ['250k_rndm_zinc_drugs_clean_3.csv', 'BBBP.csv', 'clintox.csv', 'HIV.csv', 'sider.csv', 'bace.csv', 'Lipophilicity.csv', 'SAMPL.csv', 'ESOL.csv']\n",
    "params = [{'col_smiles':0, 'col_target':-1, 'start_row':1, 'delimiter':',', 'quotechar':'\\\"'},\n",
    "          {'col_smiles':3, 'col_target':-1, 'start_row':1, 'delimiter':',', 'quotechar':'\\\"'},\n",
    "          {'col_smiles':0, 'col_target':-1, 'start_row':1, 'delimiter':',', 'quotechar':'\\\"'},\n",
    "          {'col_smiles':0, 'col_target':-1, 'start_row':1, 'delimiter':',', 'quotechar':'\\\"'},\n",
    "          {'col_smiles':0, 'col_target':-1, 'start_row':1, 'delimiter':',', 'quotechar':'\\\"'},\n",
    "          {'col_smiles':0, 'col_target':-1, 'start_row':1, 'delimiter':',', 'quotechar':'\\\"'},\n",
    "          {'col_smiles':2, 'col_target':-1, 'start_row':1, 'delimiter':',', 'quotechar':'\\\"'},\n",
    "          {'col_smiles':1, 'col_target':-1, 'start_row':1, 'delimiter':',', 'quotechar':'\\\"'},\n",
    "          {'col_smiles':9, 'col_target':-1, 'start_row':1, 'delimiter':',', 'quotechar':'\\\"'},]"
   ]
  },
  {
   "cell_type": "markdown",
   "metadata": {},
   "source": [
    "# Notacija SMILES\n",
    "V podatkih so kemijske strukture zapisane v notaciji SMILES. SMILES (angl. Simplified Molecular Input Line Entry Specification) je specifikacija, ki  uporablja nize ASCII znakov za opis struktur molekul. Za zapis atomov so uporabljeni njihovi pripadajoči atomski simboli, ki morajo biti v oglatih oklepajih. Izjema so organski elementi (B, C, N, O, P, S, F, Cl, Br in I), kjer se oklepaje preskoči in vodik, ki se ga ponavadi ne piše in se implicitno ugotovi njegovo prisotnost (CH<sub>4</sub> se zapiše kot C). \n",
    "Podobno velja za vezi. Enojne vezi, ki so najbolj pogoste, se ne označuje (CH<sub>3</sub>-OH se zapiše kot CO). Za dvojne se uporablja \"=\" in za trojne \"#\" (CO<sub>2</sub> se zapiše kot O=C=O). Za zapisovanje obročev se uporabljajo številke, torej mesta kjer se stika obroč, označimo s številko na dveh nesosednjih atomih (cikloheskan za zapiše kot C1CCCCC1). V kolikor je obročev več, se uporabi naslednja zaporedna številka. V kolikor se v kemijski strukturi pojavi razvejanost, so stranske verige zapisane v oklepajih (but-2-en se zapiše kot C(=CC)C). Aromatski atomi se zapišejo z malimi črkami, torej C, O, S in N so prikazani z c, o, s in n. Po dogovoru se predvidi, da so vezi med aromatskimi atomi aromatske, se jih pa lahko izpiše eksplicitno z \":\".\n",
    "V zapisu se lahko dodajo tudi dodatne stereokemične informacije. Za kiralnost se uporabljata znaka @ ali @@, za konfiguracije ob dvojni vezi pa se uporabljata \"\\\\\" in \"/\", ki kažeta smer enojne vezi, ki sledi dvojni.\n",
    "\n",
    "### Prikaz zapisov SMILES za nekaj molekul in njihov grafični prikaz\n"
   ]
  },
  {
   "cell_type": "code",
   "execution_count": 27,
   "metadata": {},
   "outputs": [
    {
     "data": {
      "image/png": "[encoded data removed]",
      "text/plain": [
       "<PIL.Image.Image image mode=RGBA size=600x200 at 0x1DB5EF03128>"
      ]
     },
     "execution_count": 27,
     "metadata": {},
     "output_type": "execute_result"
    }
   ],
   "source": [
    "from rdkit import Chem\n",
    "from rdkit.Chem import AllChem, Draw\n",
    "from rdkit.Chem.Draw import DrawingOptions\n",
    "\n",
    "smiles = [('Cikloheskan', 'C1CCCCC1'),\n",
    "          ('Aspirin', 'CC(=O)OC1=CC=CC=C1C(=O)O'), \n",
    "          ('Serotonin', 'c1cc2c(cc1O)c(c[nH]2)CCN',)]\n",
    "\n",
    "ms = [Chem.MolFromSmiles(smile) for _,smile in smiles]\n",
    "[AllChem.Compute2DCoords(m) for m in ms]\n",
    "\n",
    "img = Draw.MolsToGridImage(ms, 3, legends=[': '.join(pair) for pair in smiles])\n",
    "img"
   ]
  },
  {
   "cell_type": "markdown",
   "metadata": {},
   "source": [
    "### Statistika zapisov SMILES v podatkih "
   ]
  },
  {
   "cell_type": "code",
   "execution_count": 17,
   "metadata": {},
   "outputs": [
    {
     "name": "stdout",
     "output_type": "stream",
     "text": [
      "250k_rndm_zinc_drugs_clean_3.csv - length: min: 9, max: 109, mean: 44.31046080455393 \n",
      "used symbols: #, (, ), +, -, /, 1, 2, 3, 4, 5, 6, 7, 8, =, @, B, C, F, H, I, N, O, P, S, [, \\, ], c, l, n, o, r, s\n",
      "\n",
      "BBBP.csv - length: min: 3, max: 400, mean: 51.47414634146342 \n",
      "used symbols: #, %, (, ), +, -, ., /, 0, 1, 2, 3, 4, 5, 6, 7, 8, 9, =, @, B, C, F, H, I, N, O, P, S, [, \\, ], a, c, l, n, o, r, s\n",
      "\n",
      "clintox.csv - length: min: 2, max: 339, mean: 59.34231805929919 \n",
      "used symbols: #, (, ), +, -, ., /, 0, 1, 2, 3, 4, 5, 6, 7, 8, 9, =, @, A, B, C, F, H, I, M, N, O, P, S, T, Z, [, \\, ], a, c, e, g, i, l, n, o, r, s, t, u\n",
      "\n",
      "HIV.csv - length: min: 4, max: 580, mean: 45.34245143093345 \n",
      "used symbols: #, %, (, ), +, -, ., 0, 1, 2, 3, 4, 5, 6, 7, 8, 9, =, A, B, C, F, G, H, I, K, L, M, N, O, P, R, S, T, U, V, W, Z, [, ], a, b, c, d, e, g, h, i, l, n, o, p, r, s, t, u\n",
      "\n",
      "sider.csv - length: min: 1, max: 1195, mean: 64.77428571428571 \n",
      "used symbols: #, (, ), +, -, ., /, 1, 2, 3, 4, 5, 6, 7, 8, =, @, A, B, C, F, G, H, I, K, L, M, N, O, P, R, S, T, Y, Z, [, \\, ], a, c, d, e, g, i, l, m, n, o, r, s, t, u\n",
      "\n",
      "bace.csv - length: min: 17, max: 198, mean: 65.2207534699273 \n",
      "used symbols: #, (, ), +, -, /, 1, 2, 3, 4, =, @, B, C, F, H, I, N, O, S, [, \\, ], c, l, n, o, r, s\n",
      "\n",
      "Lipophilicity.csv - length: min: 11, max: 267, mean: 47.49785714285714 \n",
      "used symbols: #, %, (, ), +, -, ., /, 0, 1, 2, 3, 4, 5, 6, 7, 8, 9, =, @, B, C, F, H, I, N, O, P, S, [, \\, ], c, e, i, l, n, o, r, s\n",
      "\n",
      "SAMPL.csv - length: min: 1, max: 82, mean: 15.327102803738319 \n",
      "used symbols: #, (, ), +, -, /, 1, 2, 3, 4, 5, =, @, B, C, F, H, I, N, O, P, S, [, \\, ], c, l, n, r, s\n",
      "\n",
      "ESOL.csv - length: min: 1, max: 98, mean: 22.515070921985817 \n",
      "used symbols:  , #, (, ), /, 1, 2, 3, 4, 5, 6, 7, 8, =, B, C, F, H, I, N, O, P, S, [, \\, ], c, l, n, o, r, s\n",
      "\n"
     ]
    }
   ],
   "source": [
    "import numpy as np\n",
    "from pprint import pprint\n",
    "import sys\n",
    "sys.path.insert(0, '../code')\n",
    "import cheauder_utils\n",
    "\n",
    "for i, filename in enumerate(files):\n",
    "    smiles, _, _ = cheauder_utils.read_data(base+filename, **params[i])\n",
    "    lengths = list(map(len, smiles.tolist()))\n",
    "    chars = ', '.join(np.sort(list(set(''.join(smiles)))))\n",
    "    print('{} - length: min: {}, max: {}, mean: {} \\nused symbols: {}\\n'.format(filename, np.min(lengths), np.max(lengths),\n",
    "                                                                             np.mean(lengths), chars))"
   ]
  },
  {
   "cell_type": "code",
   "execution_count": null,
   "metadata": {},
   "outputs": [],
   "source": []
  }
 ],
 "metadata": {
  "kernelspec": {
   "display_name": "Python 3",
   "language": "python",
   "name": "python3"
  },
  "language_info": {
   "codemirror_mode": {
    "name": "ipython",
    "version": 3
   },
   "file_extension": ".py",
   "mimetype": "text/x-python",
   "name": "python",
   "nbconvert_exporter": "python",
   "pygments_lexer": "ipython3",
   "version": "3.6.6"
  }
 },
 "nbformat": 4,
 "nbformat_minor": 2
}
