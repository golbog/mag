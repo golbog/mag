{
 "cells": [
  {
   "cell_type": "markdown",
   "metadata": {},
   "source": [
    "# Klasifikacija\n",
    "\n",
    "Avtokodirniki, so lahko uporabni pri klasifikacijskih problemih. Zakodirani vhodi v latentni prostor se uporabijo kot vektorske vložitve. Preverili bomo kako kvalitetne so vložitve naših naučenih modelov in prstnih odtisov. Pri tem bomo tudi kombinirali različne vložitve.  \n",
    "Najprej je potrebno naložiti naša modela za avtokodirnik in variacijski avtokodirnik, oba imata enako širino latentnega prostora, ki je 196. Preberemo tudi podatke molekul za prehajanje skozi krvno-možgansko membrano (BBBP.csv), ki jih bomo klasificirali. Pri tem bomo odstranili tiste, ki jih knjižnica RDKit ne more pretvoriti v prstne odtise. V podatkih so molekule, ki so daljše od 120 in vsebujejo večje število znakov, kot sta bila naučena naša modela (več v 010-data.ipnyb). Take molekule bomo še zmerom uporabili. "
   ]
  },
  {
   "cell_type": "code",
   "execution_count": 1,
   "metadata": {},
   "outputs": [
    {
     "name": "stderr",
     "output_type": "stream",
     "text": [
      "Using TensorFlow backend.\n"
     ]
    }
   ],
   "source": [
    "import numpy as np\n",
    "import sys\n",
    "import itertools\n",
    "import matplotlib.pyplot as plt\n",
    "from sklearn.manifold import TSNE, MDS\n",
    "from sklearn.decomposition import PCA\n",
    "from sklearn.ensemble import RandomForestClassifier\n",
    "from sklearn.neighbors import KNeighborsClassifier\n",
    "from sklearn.svm import SVC\n",
    "from sklearn.model_selection import train_test_split, StratifiedKFold\n",
    "from xgboost import XGBClassifier\n",
    "sys.path.insert(0, '../code')\n",
    "import cheauder_utils\n",
    "from vae_smiles import CustomVariationalLayer\n",
    "\n",
    "vae_encoder = cheauder_utils.load_coder_json(\n",
    "    \"../code/model/vae_encoder_196.json\",\n",
    "    \"../code/weights/vae_encoder_196_weights.h5\",\n",
    "    custom_objects={'CustomVariationalLayer': CustomVariationalLayer,\n",
    "    'latent_dim': 196}\n",
    ")\n",
    "\n",
    "ae_encoder = cheauder_utils.load_coder_json(\n",
    "    \"../code/model/ae_encoder_196.json\",\n",
    "    \"../code/weights/ae_encoder_196_weights.h5\",\n",
    "    custom_objects={'latent_dim': 196}\n",
    ")\n",
    "\n",
    "smiles, y, label = cheauder_utils.read_data('../data/BBBP.csv', col_smiles=3, col_target=2, delimiter=',')\n",
    "fps, y, valid = cheauder_utils.smiles_to_fingerprints(smiles, y)\n",
    "chars,charset35 = cheauder_utils.load_charset('../code/model/charset_ZINC35.json')\n",
    "chars,charset36 = cheauder_utils.load_charset('../code/model/charset_ZINC.json')\n",
    "\n",
    "vae,_,_ = vae_encoder.predict(cheauder_utils.vectorize_smiles(smiles, charset35, 120))\n",
    "ae = ae_encoder.predict(cheauder_utils.vectorize_smiles(smiles, charset36, 120))\n",
    "ae, vae = ae[valid], vae[valid]"
   ]
  },
  {
   "cell_type": "markdown",
   "metadata": {},
   "source": [
    "Po priporočilih na moleculenet.ai smo za te podatke uporabili stratificirano vzorčenje (10 kratno). Uporabili smo klasifikator \"extreme boosting gradient\" (XGB), metodo podpornih vektorjev (SVM) in naključnih gozdov. \"VAE\" predstavlja vektorske vložitve našega variacijskega avtokodirnika, \"AE\" predstavlja vložitve našega avtokodirnika, ostali so pa prstni odtisi z imenom vrste prstnega odtisa. Za kvaliteto klasifikacije smo uporabili metriko AUC ROC."
   ]
  },
  {
   "cell_type": "code",
   "execution_count": 2,
   "metadata": {},
   "outputs": [
    {
     "name": "stdout",
     "output_type": "stream",
     "text": [
      "VAE                | SVM    : 0.721\n",
      "VAE                | XGB    : 0.705\n",
      "VAE                | RF     : 0.695\n",
      "AE                 | SVM    : 0.678\n",
      "AE                 | XGB    : 0.670\n",
      "AE                 | RF     : 0.706\n",
      "topological        | SVM    : 0.743\n",
      "topological        | XGB    : 0.738\n",
      "topological        | RF     : 0.728\n",
      "circular           | SVM    : 0.734\n",
      "circular           | XGB    : 0.726\n",
      "circular           | RF     : 0.715\n",
      "substructure       | SVM    : 0.756\n",
      "substructure       | XGB    : 0.764\n",
      "substructure       | RF     : 0.761\n",
      "avalon             | SVM    : 0.734\n",
      "avalon             | XGB    : 0.726\n",
      "avalon             | RF     : 0.714\n",
      "VAE+AE             | SVM    : 0.756\n",
      "VAE+AE             | XGB    : 0.728\n",
      "VAE+AE             | RF     : 0.705\n",
      "topological+VAE    | SVM    : 0.807\n",
      "topological+VAE    | XGB    : 0.767\n",
      "topological+VAE    | RF     : 0.720\n",
      "topological+AE     | SVM    : 0.770\n",
      "topological+AE     | XGB    : 0.736\n",
      "topological+AE     | RF     : 0.711\n",
      "circular+VAE       | SVM    : 0.788\n",
      "circular+VAE       | XGB    : 0.744\n",
      "circular+VAE       | RF     : 0.705\n",
      "circular+AE        | SVM    : 0.759\n",
      "circular+AE        | XGB    : 0.721\n",
      "circular+AE        | RF     : 0.703\n",
      "substructure+VAE   | SVM    : 0.792\n",
      "substructure+VAE   | XGB    : 0.780\n",
      "substructure+VAE   | RF     : 0.753\n",
      "substructure+AE    | SVM    : 0.784\n",
      "substructure+AE    | XGB    : 0.769\n",
      "substructure+AE    | RF     : 0.751\n",
      "avalon+VAE         | SVM    : 0.788\n",
      "avalon+VAE         | XGB    : 0.744\n",
      "avalon+VAE         | RF     : 0.705\n",
      "avalon+AE          | SVM    : 0.759\n",
      "avalon+AE          | XGB    : 0.721\n",
      "avalon+AE          | RF     : 0.703\n",
      "All                | SVM    : 0.814\n",
      "All                | XGB    : 0.769\n",
      "All                | RF     : 0.731\n"
     ]
    }
   ],
   "source": [
    "n_splits = 10\n",
    "cv = StratifiedKFold(n_splits=n_splits, random_state=0)\n",
    "svc = SVC(kernel='linear')\n",
    "xgb = XGBClassifier()\n",
    "rf = RandomForestClassifier(n_estimators=500)\n",
    "classifiers = {'SVM': svc, 'XGB': xgb, 'RF': rf}\n",
    "Xs = {'VAE': vae, 'AE': ae}\n",
    "for key, value in fps.items():\n",
    "    Xs[key] = value\n",
    "\n",
    "Xs['VAE+AE'] = np.hstack((vae,ae))\n",
    "for keys, values in zip(itertools.product(fps.keys(), ['VAE', 'AE']), itertools.product(fps.values(), [vae,ae])):\n",
    "    Xs['+'.join(keys)] = np.hstack((values))\n",
    "Xs['All'] = np.hstack((np.hstack((list(fps.values()))),ae,vae))\n",
    "\n",
    "cheauder_utils.classification_test(Xs, y, classifiers, n_splits=10);"
   ]
  },
  {
   "cell_type": "code",
   "execution_count": null,
   "metadata": {},
   "outputs": [],
   "source": []
  }
 ],
 "metadata": {
  "kernelspec": {
   "display_name": "Python 3",
   "language": "python",
   "name": "python3"
  },
  "language_info": {
   "codemirror_mode": {
    "name": "ipython",
    "version": 3
   },
   "file_extension": ".py",
   "mimetype": "text/x-python",
   "name": "python",
   "nbconvert_exporter": "python",
   "pygments_lexer": "ipython3",
   "version": "3.6.6"
  }
 },
 "nbformat": 4,
 "nbformat_minor": 2
}
